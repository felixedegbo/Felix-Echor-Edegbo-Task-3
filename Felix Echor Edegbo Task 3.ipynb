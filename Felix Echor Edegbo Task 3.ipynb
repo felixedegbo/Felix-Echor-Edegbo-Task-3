{
 "cells": [
  {
   "cell_type": "markdown",
   "id": "78ffeeeb-510d-4c04-985e-ceda60c9f824",
   "metadata": {},
   "source": [
    "The Data for this pizza sales is made up of 4 separate csv files, all of these will be read into separate dataframes, then they will be joined using outer merge, after that unwanted columns will then be dropped."
   ]
  },
  {
   "cell_type": "code",
   "execution_count": 2,
   "id": "a4818f7c-0038-42fa-b01e-b35910c96b2a",
   "metadata": {},
   "outputs": [],
   "source": [
    "# Importing the dependecies\n",
    "import pandas as pd\n",
    "import numpy as np\n",
    "import matplotlib.pyplot as plt\n",
    "import seaborn as sns\n",
    "\n",
    "import warnings\n",
    "warnings.filterwarnings(\"ignore\")"
   ]
  },
  {
   "cell_type": "code",
   "execution_count": 3,
   "id": "4e8a4c9a-ee38-4945-a127-48d62a505003",
   "metadata": {},
   "outputs": [],
   "source": [
    "# Importing the datasets\n",
    "df1 = pd.read_csv(r'C:\\Users\\USER\\Desktop\\Scanned Documents\\pizza_sales\\pizzas.csv')\n",
    "df2 = pd.read_csv(r'C:\\Users\\USER\\Desktop\\Scanned Documents\\pizza_types.csv', encoding='latin1')\n",
    "df3 = pd.read_csv(r'C:\\Users\\USER\\Desktop\\Scanned Documents\\pizza_sales\\orders.csv')\n",
    "df4 = pd.read_csv(r'C:\\Users\\USER\\Desktop\\Scanned Documents\\pizza_sales\\order_details.csv')"
   ]
  },
  {
   "cell_type": "code",
   "execution_count": 4,
   "id": "260b43a8-88fe-4554-83db-0b1a64f6fdee",
   "metadata": {},
   "outputs": [
    {
     "data": {
      "text/html": [
       "<div>\n",
       "<style scoped>\n",
       "    .dataframe tbody tr th:only-of-type {\n",
       "        vertical-align: middle;\n",
       "    }\n",
       "\n",
       "    .dataframe tbody tr th {\n",
       "        vertical-align: top;\n",
       "    }\n",
       "\n",
       "    .dataframe thead th {\n",
       "        text-align: right;\n",
       "    }\n",
       "</style>\n",
       "<table border=\"1\" class=\"dataframe\">\n",
       "  <thead>\n",
       "    <tr style=\"text-align: right;\">\n",
       "      <th></th>\n",
       "      <th>pizza_id</th>\n",
       "      <th>pizza_type_id</th>\n",
       "      <th>size</th>\n",
       "      <th>price</th>\n",
       "    </tr>\n",
       "  </thead>\n",
       "  <tbody>\n",
       "    <tr>\n",
       "      <th>0</th>\n",
       "      <td>bbq_ckn_s</td>\n",
       "      <td>bbq_ckn</td>\n",
       "      <td>S</td>\n",
       "      <td>12.75</td>\n",
       "    </tr>\n",
       "    <tr>\n",
       "      <th>1</th>\n",
       "      <td>bbq_ckn_m</td>\n",
       "      <td>bbq_ckn</td>\n",
       "      <td>M</td>\n",
       "      <td>16.75</td>\n",
       "    </tr>\n",
       "  </tbody>\n",
       "</table>\n",
       "</div>"
      ],
      "text/plain": [
       "    pizza_id pizza_type_id size  price\n",
       "0  bbq_ckn_s       bbq_ckn    S  12.75\n",
       "1  bbq_ckn_m       bbq_ckn    M  16.75"
      ]
     },
     "execution_count": 4,
     "metadata": {},
     "output_type": "execute_result"
    }
   ],
   "source": [
    "df1.head(2)"
   ]
  },
  {
   "cell_type": "code",
   "execution_count": 5,
   "id": "417b54f7-9abf-4c95-9ab3-1643c7662bdf",
   "metadata": {},
   "outputs": [
    {
     "data": {
      "text/html": [
       "<div>\n",
       "<style scoped>\n",
       "    .dataframe tbody tr th:only-of-type {\n",
       "        vertical-align: middle;\n",
       "    }\n",
       "\n",
       "    .dataframe tbody tr th {\n",
       "        vertical-align: top;\n",
       "    }\n",
       "\n",
       "    .dataframe thead th {\n",
       "        text-align: right;\n",
       "    }\n",
       "</style>\n",
       "<table border=\"1\" class=\"dataframe\">\n",
       "  <thead>\n",
       "    <tr style=\"text-align: right;\">\n",
       "      <th></th>\n",
       "      <th>pizza_type_id</th>\n",
       "      <th>name</th>\n",
       "      <th>category</th>\n",
       "      <th>ingredients</th>\n",
       "    </tr>\n",
       "  </thead>\n",
       "  <tbody>\n",
       "    <tr>\n",
       "      <th>0</th>\n",
       "      <td>bbq_ckn</td>\n",
       "      <td>The Barbecue Chicken Pizza</td>\n",
       "      <td>Chicken</td>\n",
       "      <td>Barbecued Chicken, Red Peppers, Green Peppers,...</td>\n",
       "    </tr>\n",
       "    <tr>\n",
       "      <th>1</th>\n",
       "      <td>cali_ckn</td>\n",
       "      <td>The California Chicken Pizza</td>\n",
       "      <td>Chicken</td>\n",
       "      <td>Chicken, Artichoke, Spinach, Garlic, Jalapeno ...</td>\n",
       "    </tr>\n",
       "  </tbody>\n",
       "</table>\n",
       "</div>"
      ],
      "text/plain": [
       "  pizza_type_id                          name category  \\\n",
       "0       bbq_ckn    The Barbecue Chicken Pizza  Chicken   \n",
       "1      cali_ckn  The California Chicken Pizza  Chicken   \n",
       "\n",
       "                                         ingredients  \n",
       "0  Barbecued Chicken, Red Peppers, Green Peppers,...  \n",
       "1  Chicken, Artichoke, Spinach, Garlic, Jalapeno ...  "
      ]
     },
     "execution_count": 5,
     "metadata": {},
     "output_type": "execute_result"
    }
   ],
   "source": [
    "df2.head(2)"
   ]
  },
  {
   "cell_type": "code",
   "execution_count": 6,
   "id": "8bbb12dd-a3f5-40ce-9a0a-79c881600908",
   "metadata": {},
   "outputs": [
    {
     "data": {
      "text/html": [
       "<div>\n",
       "<style scoped>\n",
       "    .dataframe tbody tr th:only-of-type {\n",
       "        vertical-align: middle;\n",
       "    }\n",
       "\n",
       "    .dataframe tbody tr th {\n",
       "        vertical-align: top;\n",
       "    }\n",
       "\n",
       "    .dataframe thead th {\n",
       "        text-align: right;\n",
       "    }\n",
       "</style>\n",
       "<table border=\"1\" class=\"dataframe\">\n",
       "  <thead>\n",
       "    <tr style=\"text-align: right;\">\n",
       "      <th></th>\n",
       "      <th>order_id</th>\n",
       "      <th>date</th>\n",
       "      <th>time</th>\n",
       "    </tr>\n",
       "  </thead>\n",
       "  <tbody>\n",
       "    <tr>\n",
       "      <th>0</th>\n",
       "      <td>1</td>\n",
       "      <td>2015-01-01</td>\n",
       "      <td>11:38:36</td>\n",
       "    </tr>\n",
       "    <tr>\n",
       "      <th>1</th>\n",
       "      <td>2</td>\n",
       "      <td>2015-01-01</td>\n",
       "      <td>11:57:40</td>\n",
       "    </tr>\n",
       "  </tbody>\n",
       "</table>\n",
       "</div>"
      ],
      "text/plain": [
       "   order_id        date      time\n",
       "0         1  2015-01-01  11:38:36\n",
       "1         2  2015-01-01  11:57:40"
      ]
     },
     "execution_count": 6,
     "metadata": {},
     "output_type": "execute_result"
    }
   ],
   "source": [
    "df3.head(2)"
   ]
  },
  {
   "cell_type": "code",
   "execution_count": 7,
   "id": "9de4e577-e448-4815-b95e-33fde837db53",
   "metadata": {},
   "outputs": [
    {
     "data": {
      "text/html": [
       "<div>\n",
       "<style scoped>\n",
       "    .dataframe tbody tr th:only-of-type {\n",
       "        vertical-align: middle;\n",
       "    }\n",
       "\n",
       "    .dataframe tbody tr th {\n",
       "        vertical-align: top;\n",
       "    }\n",
       "\n",
       "    .dataframe thead th {\n",
       "        text-align: right;\n",
       "    }\n",
       "</style>\n",
       "<table border=\"1\" class=\"dataframe\">\n",
       "  <thead>\n",
       "    <tr style=\"text-align: right;\">\n",
       "      <th></th>\n",
       "      <th>order_details_id</th>\n",
       "      <th>order_id</th>\n",
       "      <th>pizza_id</th>\n",
       "      <th>quantity</th>\n",
       "    </tr>\n",
       "  </thead>\n",
       "  <tbody>\n",
       "    <tr>\n",
       "      <th>0</th>\n",
       "      <td>1</td>\n",
       "      <td>1</td>\n",
       "      <td>hawaiian_m</td>\n",
       "      <td>1</td>\n",
       "    </tr>\n",
       "    <tr>\n",
       "      <th>1</th>\n",
       "      <td>2</td>\n",
       "      <td>2</td>\n",
       "      <td>classic_dlx_m</td>\n",
       "      <td>1</td>\n",
       "    </tr>\n",
       "  </tbody>\n",
       "</table>\n",
       "</div>"
      ],
      "text/plain": [
       "   order_details_id  order_id       pizza_id  quantity\n",
       "0                 1         1     hawaiian_m         1\n",
       "1                 2         2  classic_dlx_m         1"
      ]
     },
     "execution_count": 7,
     "metadata": {},
     "output_type": "execute_result"
    }
   ],
   "source": [
    "df4.head(2)"
   ]
  },
  {
   "cell_type": "code",
   "execution_count": 8,
   "id": "961b38e1-5b9a-4c3b-87b3-8c1cd36b8553",
   "metadata": {},
   "outputs": [],
   "source": [
    "# merging the four dataframes using with outer merge\n",
    "df5 = pd.merge(df3, df4, on='order_id', how='outer')\n",
    "df6 = pd.merge(df1, df2, on='pizza_type_id', how='outer')"
   ]
  },
  {
   "cell_type": "code",
   "execution_count": 9,
   "id": "bfe56019-5266-4cac-94a4-dd13725dd220",
   "metadata": {},
   "outputs": [
    {
     "data": {
      "text/html": [
       "<div>\n",
       "<style scoped>\n",
       "    .dataframe tbody tr th:only-of-type {\n",
       "        vertical-align: middle;\n",
       "    }\n",
       "\n",
       "    .dataframe tbody tr th {\n",
       "        vertical-align: top;\n",
       "    }\n",
       "\n",
       "    .dataframe thead th {\n",
       "        text-align: right;\n",
       "    }\n",
       "</style>\n",
       "<table border=\"1\" class=\"dataframe\">\n",
       "  <thead>\n",
       "    <tr style=\"text-align: right;\">\n",
       "      <th></th>\n",
       "      <th>order_id</th>\n",
       "      <th>date</th>\n",
       "      <th>time</th>\n",
       "      <th>order_details_id</th>\n",
       "      <th>pizza_id</th>\n",
       "      <th>quantity</th>\n",
       "    </tr>\n",
       "  </thead>\n",
       "  <tbody>\n",
       "    <tr>\n",
       "      <th>0</th>\n",
       "      <td>1</td>\n",
       "      <td>2015-01-01</td>\n",
       "      <td>11:38:36</td>\n",
       "      <td>1</td>\n",
       "      <td>hawaiian_m</td>\n",
       "      <td>1</td>\n",
       "    </tr>\n",
       "    <tr>\n",
       "      <th>1</th>\n",
       "      <td>2</td>\n",
       "      <td>2015-01-01</td>\n",
       "      <td>11:57:40</td>\n",
       "      <td>2</td>\n",
       "      <td>classic_dlx_m</td>\n",
       "      <td>1</td>\n",
       "    </tr>\n",
       "  </tbody>\n",
       "</table>\n",
       "</div>"
      ],
      "text/plain": [
       "   order_id        date      time  order_details_id       pizza_id  quantity\n",
       "0         1  2015-01-01  11:38:36                 1     hawaiian_m         1\n",
       "1         2  2015-01-01  11:57:40                 2  classic_dlx_m         1"
      ]
     },
     "execution_count": 9,
     "metadata": {},
     "output_type": "execute_result"
    }
   ],
   "source": [
    "df5.head(2)"
   ]
  },
  {
   "cell_type": "code",
   "execution_count": 10,
   "id": "246fc395-ec20-4a6c-a397-1ecd510442e3",
   "metadata": {},
   "outputs": [
    {
     "data": {
      "text/html": [
       "<div>\n",
       "<style scoped>\n",
       "    .dataframe tbody tr th:only-of-type {\n",
       "        vertical-align: middle;\n",
       "    }\n",
       "\n",
       "    .dataframe tbody tr th {\n",
       "        vertical-align: top;\n",
       "    }\n",
       "\n",
       "    .dataframe thead th {\n",
       "        text-align: right;\n",
       "    }\n",
       "</style>\n",
       "<table border=\"1\" class=\"dataframe\">\n",
       "  <thead>\n",
       "    <tr style=\"text-align: right;\">\n",
       "      <th></th>\n",
       "      <th>pizza_id</th>\n",
       "      <th>pizza_type_id</th>\n",
       "      <th>size</th>\n",
       "      <th>price</th>\n",
       "      <th>name</th>\n",
       "      <th>category</th>\n",
       "      <th>ingredients</th>\n",
       "    </tr>\n",
       "  </thead>\n",
       "  <tbody>\n",
       "    <tr>\n",
       "      <th>0</th>\n",
       "      <td>bbq_ckn_s</td>\n",
       "      <td>bbq_ckn</td>\n",
       "      <td>S</td>\n",
       "      <td>12.75</td>\n",
       "      <td>The Barbecue Chicken Pizza</td>\n",
       "      <td>Chicken</td>\n",
       "      <td>Barbecued Chicken, Red Peppers, Green Peppers,...</td>\n",
       "    </tr>\n",
       "    <tr>\n",
       "      <th>1</th>\n",
       "      <td>bbq_ckn_m</td>\n",
       "      <td>bbq_ckn</td>\n",
       "      <td>M</td>\n",
       "      <td>16.75</td>\n",
       "      <td>The Barbecue Chicken Pizza</td>\n",
       "      <td>Chicken</td>\n",
       "      <td>Barbecued Chicken, Red Peppers, Green Peppers,...</td>\n",
       "    </tr>\n",
       "  </tbody>\n",
       "</table>\n",
       "</div>"
      ],
      "text/plain": [
       "    pizza_id pizza_type_id size  price                        name category  \\\n",
       "0  bbq_ckn_s       bbq_ckn    S  12.75  The Barbecue Chicken Pizza  Chicken   \n",
       "1  bbq_ckn_m       bbq_ckn    M  16.75  The Barbecue Chicken Pizza  Chicken   \n",
       "\n",
       "                                         ingredients  \n",
       "0  Barbecued Chicken, Red Peppers, Green Peppers,...  \n",
       "1  Barbecued Chicken, Red Peppers, Green Peppers,...  "
      ]
     },
     "execution_count": 10,
     "metadata": {},
     "output_type": "execute_result"
    }
   ],
   "source": [
    "df6.head(2)"
   ]
  },
  {
   "cell_type": "code",
   "execution_count": 11,
   "id": "4105ee20-eee1-413d-b660-c18d6bfc78d6",
   "metadata": {},
   "outputs": [],
   "source": [
    "# Finally I merge the two tables into one final table to work with.\n",
    "pizza_df = pd.merge(df5, df6, on='pizza_id', how='outer')"
   ]
  },
  {
   "cell_type": "code",
   "execution_count": 12,
   "id": "336e327c-243c-4da7-9644-41f9339c3ab7",
   "metadata": {},
   "outputs": [
    {
     "data": {
      "text/html": [
       "<div>\n",
       "<style scoped>\n",
       "    .dataframe tbody tr th:only-of-type {\n",
       "        vertical-align: middle;\n",
       "    }\n",
       "\n",
       "    .dataframe tbody tr th {\n",
       "        vertical-align: top;\n",
       "    }\n",
       "\n",
       "    .dataframe thead th {\n",
       "        text-align: right;\n",
       "    }\n",
       "</style>\n",
       "<table border=\"1\" class=\"dataframe\">\n",
       "  <thead>\n",
       "    <tr style=\"text-align: right;\">\n",
       "      <th></th>\n",
       "      <th>order_id</th>\n",
       "      <th>date</th>\n",
       "      <th>time</th>\n",
       "      <th>order_details_id</th>\n",
       "      <th>pizza_id</th>\n",
       "      <th>quantity</th>\n",
       "      <th>pizza_type_id</th>\n",
       "      <th>size</th>\n",
       "      <th>price</th>\n",
       "      <th>name</th>\n",
       "      <th>category</th>\n",
       "      <th>ingredients</th>\n",
       "    </tr>\n",
       "  </thead>\n",
       "  <tbody>\n",
       "    <tr>\n",
       "      <th>0</th>\n",
       "      <td>11.0</td>\n",
       "      <td>2015-01-01</td>\n",
       "      <td>13:02:59</td>\n",
       "      <td>26.0</td>\n",
       "      <td>bbq_ckn_l</td>\n",
       "      <td>1.0</td>\n",
       "      <td>bbq_ckn</td>\n",
       "      <td>L</td>\n",
       "      <td>20.75</td>\n",
       "      <td>The Barbecue Chicken Pizza</td>\n",
       "      <td>Chicken</td>\n",
       "      <td>Barbecued Chicken, Red Peppers, Green Peppers,...</td>\n",
       "    </tr>\n",
       "    <tr>\n",
       "      <th>1</th>\n",
       "      <td>17.0</td>\n",
       "      <td>2015-01-01</td>\n",
       "      <td>13:53:00</td>\n",
       "      <td>43.0</td>\n",
       "      <td>bbq_ckn_l</td>\n",
       "      <td>1.0</td>\n",
       "      <td>bbq_ckn</td>\n",
       "      <td>L</td>\n",
       "      <td>20.75</td>\n",
       "      <td>The Barbecue Chicken Pizza</td>\n",
       "      <td>Chicken</td>\n",
       "      <td>Barbecued Chicken, Red Peppers, Green Peppers,...</td>\n",
       "    </tr>\n",
       "    <tr>\n",
       "      <th>2</th>\n",
       "      <td>27.0</td>\n",
       "      <td>2015-01-01</td>\n",
       "      <td>15:11:17</td>\n",
       "      <td>71.0</td>\n",
       "      <td>bbq_ckn_l</td>\n",
       "      <td>1.0</td>\n",
       "      <td>bbq_ckn</td>\n",
       "      <td>L</td>\n",
       "      <td>20.75</td>\n",
       "      <td>The Barbecue Chicken Pizza</td>\n",
       "      <td>Chicken</td>\n",
       "      <td>Barbecued Chicken, Red Peppers, Green Peppers,...</td>\n",
       "    </tr>\n",
       "    <tr>\n",
       "      <th>3</th>\n",
       "      <td>33.0</td>\n",
       "      <td>2015-01-01</td>\n",
       "      <td>15:54:08</td>\n",
       "      <td>83.0</td>\n",
       "      <td>bbq_ckn_l</td>\n",
       "      <td>1.0</td>\n",
       "      <td>bbq_ckn</td>\n",
       "      <td>L</td>\n",
       "      <td>20.75</td>\n",
       "      <td>The Barbecue Chicken Pizza</td>\n",
       "      <td>Chicken</td>\n",
       "      <td>Barbecued Chicken, Red Peppers, Green Peppers,...</td>\n",
       "    </tr>\n",
       "    <tr>\n",
       "      <th>4</th>\n",
       "      <td>51.0</td>\n",
       "      <td>2015-01-01</td>\n",
       "      <td>18:48:28</td>\n",
       "      <td>123.0</td>\n",
       "      <td>bbq_ckn_l</td>\n",
       "      <td>1.0</td>\n",
       "      <td>bbq_ckn</td>\n",
       "      <td>L</td>\n",
       "      <td>20.75</td>\n",
       "      <td>The Barbecue Chicken Pizza</td>\n",
       "      <td>Chicken</td>\n",
       "      <td>Barbecued Chicken, Red Peppers, Green Peppers,...</td>\n",
       "    </tr>\n",
       "  </tbody>\n",
       "</table>\n",
       "</div>"
      ],
      "text/plain": [
       "   order_id        date      time  order_details_id   pizza_id  quantity  \\\n",
       "0      11.0  2015-01-01  13:02:59              26.0  bbq_ckn_l       1.0   \n",
       "1      17.0  2015-01-01  13:53:00              43.0  bbq_ckn_l       1.0   \n",
       "2      27.0  2015-01-01  15:11:17              71.0  bbq_ckn_l       1.0   \n",
       "3      33.0  2015-01-01  15:54:08              83.0  bbq_ckn_l       1.0   \n",
       "4      51.0  2015-01-01  18:48:28             123.0  bbq_ckn_l       1.0   \n",
       "\n",
       "  pizza_type_id size  price                        name category  \\\n",
       "0       bbq_ckn    L  20.75  The Barbecue Chicken Pizza  Chicken   \n",
       "1       bbq_ckn    L  20.75  The Barbecue Chicken Pizza  Chicken   \n",
       "2       bbq_ckn    L  20.75  The Barbecue Chicken Pizza  Chicken   \n",
       "3       bbq_ckn    L  20.75  The Barbecue Chicken Pizza  Chicken   \n",
       "4       bbq_ckn    L  20.75  The Barbecue Chicken Pizza  Chicken   \n",
       "\n",
       "                                         ingredients  \n",
       "0  Barbecued Chicken, Red Peppers, Green Peppers,...  \n",
       "1  Barbecued Chicken, Red Peppers, Green Peppers,...  \n",
       "2  Barbecued Chicken, Red Peppers, Green Peppers,...  \n",
       "3  Barbecued Chicken, Red Peppers, Green Peppers,...  \n",
       "4  Barbecued Chicken, Red Peppers, Green Peppers,...  "
      ]
     },
     "execution_count": 12,
     "metadata": {},
     "output_type": "execute_result"
    }
   ],
   "source": [
    "pizza_df.head()"
   ]
  },
  {
   "cell_type": "markdown",
   "id": "b9776448-025e-439a-9cc4-c4ebfd481791",
   "metadata": {},
   "source": [
    "**Data Cleaning and Preprocessing**"
   ]
  },
  {
   "cell_type": "code",
   "execution_count": 14,
   "id": "2e75e2a1-0322-4690-b231-2075b6b0ed66",
   "metadata": {},
   "outputs": [
    {
     "data": {
      "text/html": [
       "<div>\n",
       "<style scoped>\n",
       "    .dataframe tbody tr th:only-of-type {\n",
       "        vertical-align: middle;\n",
       "    }\n",
       "\n",
       "    .dataframe tbody tr th {\n",
       "        vertical-align: top;\n",
       "    }\n",
       "\n",
       "    .dataframe thead th {\n",
       "        text-align: right;\n",
       "    }\n",
       "</style>\n",
       "<table border=\"1\" class=\"dataframe\">\n",
       "  <thead>\n",
       "    <tr style=\"text-align: right;\">\n",
       "      <th></th>\n",
       "      <th>order_id</th>\n",
       "      <th>date</th>\n",
       "      <th>time</th>\n",
       "      <th>quantity</th>\n",
       "      <th>pizza_type_id</th>\n",
       "      <th>size</th>\n",
       "      <th>price</th>\n",
       "      <th>name</th>\n",
       "      <th>category</th>\n",
       "    </tr>\n",
       "  </thead>\n",
       "  <tbody>\n",
       "    <tr>\n",
       "      <th>0</th>\n",
       "      <td>11.0</td>\n",
       "      <td>2015-01-01</td>\n",
       "      <td>13:02:59</td>\n",
       "      <td>1.0</td>\n",
       "      <td>bbq_ckn</td>\n",
       "      <td>L</td>\n",
       "      <td>20.75</td>\n",
       "      <td>The Barbecue Chicken Pizza</td>\n",
       "      <td>Chicken</td>\n",
       "    </tr>\n",
       "    <tr>\n",
       "      <th>1</th>\n",
       "      <td>17.0</td>\n",
       "      <td>2015-01-01</td>\n",
       "      <td>13:53:00</td>\n",
       "      <td>1.0</td>\n",
       "      <td>bbq_ckn</td>\n",
       "      <td>L</td>\n",
       "      <td>20.75</td>\n",
       "      <td>The Barbecue Chicken Pizza</td>\n",
       "      <td>Chicken</td>\n",
       "    </tr>\n",
       "  </tbody>\n",
       "</table>\n",
       "</div>"
      ],
      "text/plain": [
       "   order_id        date      time  quantity pizza_type_id size  price  \\\n",
       "0      11.0  2015-01-01  13:02:59       1.0       bbq_ckn    L  20.75   \n",
       "1      17.0  2015-01-01  13:53:00       1.0       bbq_ckn    L  20.75   \n",
       "\n",
       "                         name category  \n",
       "0  The Barbecue Chicken Pizza  Chicken  \n",
       "1  The Barbecue Chicken Pizza  Chicken  "
      ]
     },
     "execution_count": 14,
     "metadata": {},
     "output_type": "execute_result"
    }
   ],
   "source": [
    "# the following columns will be dropped, order_details_id, pizza_id, and ingredients\n",
    "pizza_df = pizza_df.drop(columns=['ingredients', 'pizza_id', 'order_details_id'], axis=1)\n",
    "pizza_df.head(2)"
   ]
  },
  {
   "cell_type": "code",
   "execution_count": 15,
   "id": "6cb92468-3ca6-42e3-978e-b1b68efa88e1",
   "metadata": {},
   "outputs": [
    {
     "name": "stdout",
     "output_type": "stream",
     "text": [
      "<class 'pandas.core.frame.DataFrame'>\n",
      "RangeIndex: 48625 entries, 0 to 48624\n",
      "Data columns (total 9 columns):\n",
      " #   Column         Non-Null Count  Dtype  \n",
      "---  ------         --------------  -----  \n",
      " 0   order_id       48620 non-null  float64\n",
      " 1   date           48620 non-null  object \n",
      " 2   time           48620 non-null  object \n",
      " 3   quantity       48620 non-null  float64\n",
      " 4   pizza_type_id  48625 non-null  object \n",
      " 5   size           48625 non-null  object \n",
      " 6   price          48625 non-null  float64\n",
      " 7   name           48625 non-null  object \n",
      " 8   category       48625 non-null  object \n",
      "dtypes: float64(3), object(6)\n",
      "memory usage: 3.3+ MB\n"
     ]
    }
   ],
   "source": [
    "pizza_df.info()"
   ]
  },
  {
   "cell_type": "code",
   "execution_count": 16,
   "id": "df45b408-bbb4-424e-944c-6f43121fe40c",
   "metadata": {},
   "outputs": [
    {
     "data": {
      "text/plain": [
       "order_id         5\n",
       "date             5\n",
       "time             5\n",
       "quantity         5\n",
       "pizza_type_id    0\n",
       "size             0\n",
       "price            0\n",
       "name             0\n",
       "category         0\n",
       "dtype: int64"
      ]
     },
     "execution_count": 16,
     "metadata": {},
     "output_type": "execute_result"
    }
   ],
   "source": [
    "pizza_df.isnull().sum()"
   ]
  },
  {
   "cell_type": "markdown",
   "id": "f1a2356f-ba8a-4e46-80e1-191a1b74ecdb",
   "metadata": {},
   "source": [
    "Dates, order_id and time of a transaction should not be empty, it means nothing was sold at that date and time, hence I will remove empty rows"
   ]
  },
  {
   "cell_type": "code",
   "execution_count": 18,
   "id": "c29c7a07-09d5-410c-b1f7-17c5b719bfd5",
   "metadata": {},
   "outputs": [],
   "source": [
    "pizza_df = pizza_df.dropna(subset = ['order_id', 'date', 'time'], how='all')"
   ]
  },
  {
   "cell_type": "code",
   "execution_count": 19,
   "id": "72cd310c-1678-4239-975a-bfc6a348a646",
   "metadata": {},
   "outputs": [
    {
     "data": {
      "text/plain": [
       "order_id         0\n",
       "date             0\n",
       "time             0\n",
       "quantity         0\n",
       "pizza_type_id    0\n",
       "size             0\n",
       "price            0\n",
       "name             0\n",
       "category         0\n",
       "dtype: int64"
      ]
     },
     "execution_count": 19,
     "metadata": {},
     "output_type": "execute_result"
    }
   ],
   "source": [
    "pizza_df.isnull().sum()"
   ]
  },
  {
   "cell_type": "markdown",
   "id": "70692979-580b-4eac-8494-08da39673e2b",
   "metadata": {},
   "source": [
    "Date and time are set as objects, they need to be changed to datetime format"
   ]
  },
  {
   "cell_type": "code",
   "execution_count": 21,
   "id": "2101d60a-f149-4993-823f-24f3cf249653",
   "metadata": {},
   "outputs": [],
   "source": [
    "pizza_df['date'] = pd.to_datetime(pizza_df['date'])\n",
    "pizza_df['time'] = pd.to_datetime(pizza_df['time'])"
   ]
  },
  {
   "cell_type": "code",
   "execution_count": 22,
   "id": "0cf92af4-d98b-486f-87f2-7ff21d70ce59",
   "metadata": {},
   "outputs": [
    {
     "name": "stdout",
     "output_type": "stream",
     "text": [
      "<class 'pandas.core.frame.DataFrame'>\n",
      "Index: 48620 entries, 0 to 48624\n",
      "Data columns (total 9 columns):\n",
      " #   Column         Non-Null Count  Dtype         \n",
      "---  ------         --------------  -----         \n",
      " 0   order_id       48620 non-null  float64       \n",
      " 1   date           48620 non-null  datetime64[ns]\n",
      " 2   time           48620 non-null  datetime64[ns]\n",
      " 3   quantity       48620 non-null  float64       \n",
      " 4   pizza_type_id  48620 non-null  object        \n",
      " 5   size           48620 non-null  object        \n",
      " 6   price          48620 non-null  float64       \n",
      " 7   name           48620 non-null  object        \n",
      " 8   category       48620 non-null  object        \n",
      "dtypes: datetime64[ns](2), float64(3), object(4)\n",
      "memory usage: 3.7+ MB\n"
     ]
    }
   ],
   "source": [
    "pizza_df.info()"
   ]
  },
  {
   "cell_type": "markdown",
   "id": "d423b0aa-3e8e-43ef-8b05-38f6aa2187bd",
   "metadata": {},
   "source": [
    "Since we will be calculating total sales in a day or month, we need to create a column that shows the total sales per order."
   ]
  },
  {
   "cell_type": "code",
   "execution_count": 24,
   "id": "36de98f1-4ab1-4d76-a7de-9d3c451fa623",
   "metadata": {},
   "outputs": [
    {
     "data": {
      "text/html": [
       "<div>\n",
       "<style scoped>\n",
       "    .dataframe tbody tr th:only-of-type {\n",
       "        vertical-align: middle;\n",
       "    }\n",
       "\n",
       "    .dataframe tbody tr th {\n",
       "        vertical-align: top;\n",
       "    }\n",
       "\n",
       "    .dataframe thead th {\n",
       "        text-align: right;\n",
       "    }\n",
       "</style>\n",
       "<table border=\"1\" class=\"dataframe\">\n",
       "  <thead>\n",
       "    <tr style=\"text-align: right;\">\n",
       "      <th></th>\n",
       "      <th>order_id</th>\n",
       "      <th>date</th>\n",
       "      <th>time</th>\n",
       "      <th>quantity</th>\n",
       "      <th>pizza_type_id</th>\n",
       "      <th>size</th>\n",
       "      <th>price</th>\n",
       "      <th>name</th>\n",
       "      <th>category</th>\n",
       "      <th>sales</th>\n",
       "    </tr>\n",
       "  </thead>\n",
       "  <tbody>\n",
       "    <tr>\n",
       "      <th>0</th>\n",
       "      <td>11.0</td>\n",
       "      <td>2015-01-01</td>\n",
       "      <td>2025-05-12 13:02:59</td>\n",
       "      <td>1.0</td>\n",
       "      <td>bbq_ckn</td>\n",
       "      <td>L</td>\n",
       "      <td>20.75</td>\n",
       "      <td>The Barbecue Chicken Pizza</td>\n",
       "      <td>Chicken</td>\n",
       "      <td>20.75</td>\n",
       "    </tr>\n",
       "    <tr>\n",
       "      <th>1</th>\n",
       "      <td>17.0</td>\n",
       "      <td>2015-01-01</td>\n",
       "      <td>2025-05-12 13:53:00</td>\n",
       "      <td>1.0</td>\n",
       "      <td>bbq_ckn</td>\n",
       "      <td>L</td>\n",
       "      <td>20.75</td>\n",
       "      <td>The Barbecue Chicken Pizza</td>\n",
       "      <td>Chicken</td>\n",
       "      <td>20.75</td>\n",
       "    </tr>\n",
       "  </tbody>\n",
       "</table>\n",
       "</div>"
      ],
      "text/plain": [
       "   order_id       date                time  quantity pizza_type_id size  \\\n",
       "0      11.0 2015-01-01 2025-05-12 13:02:59       1.0       bbq_ckn    L   \n",
       "1      17.0 2015-01-01 2025-05-12 13:53:00       1.0       bbq_ckn    L   \n",
       "\n",
       "   price                        name category  sales  \n",
       "0  20.75  The Barbecue Chicken Pizza  Chicken  20.75  \n",
       "1  20.75  The Barbecue Chicken Pizza  Chicken  20.75  "
      ]
     },
     "execution_count": 24,
     "metadata": {},
     "output_type": "execute_result"
    }
   ],
   "source": [
    "pizza_df['sales'] = pizza_df['quantity']*pizza_df['price']\n",
    "pizza_df.head(2)"
   ]
  },
  {
   "cell_type": "markdown",
   "id": "9f6adf49-31f2-42d0-ae8c-a30b95a02f63",
   "metadata": {},
   "source": [
    "Hourly sales, Daily sales and Monthly sales will be calculated, hence months, weekday and hour will be extracted from the date and time respectively."
   ]
  },
  {
   "cell_type": "code",
   "execution_count": 26,
   "id": "b457317f-3e24-445c-b71e-7bdbd9c6f6fb",
   "metadata": {},
   "outputs": [
    {
     "data": {
      "text/html": [
       "<div>\n",
       "<style scoped>\n",
       "    .dataframe tbody tr th:only-of-type {\n",
       "        vertical-align: middle;\n",
       "    }\n",
       "\n",
       "    .dataframe tbody tr th {\n",
       "        vertical-align: top;\n",
       "    }\n",
       "\n",
       "    .dataframe thead th {\n",
       "        text-align: right;\n",
       "    }\n",
       "</style>\n",
       "<table border=\"1\" class=\"dataframe\">\n",
       "  <thead>\n",
       "    <tr style=\"text-align: right;\">\n",
       "      <th></th>\n",
       "      <th>order_id</th>\n",
       "      <th>date</th>\n",
       "      <th>time</th>\n",
       "      <th>quantity</th>\n",
       "      <th>pizza_type_id</th>\n",
       "      <th>size</th>\n",
       "      <th>price</th>\n",
       "      <th>name</th>\n",
       "      <th>category</th>\n",
       "      <th>sales</th>\n",
       "      <th>order month</th>\n",
       "      <th>order day</th>\n",
       "      <th>hour</th>\n",
       "    </tr>\n",
       "  </thead>\n",
       "  <tbody>\n",
       "    <tr>\n",
       "      <th>0</th>\n",
       "      <td>11.0</td>\n",
       "      <td>2015-01-01</td>\n",
       "      <td>2025-05-12 13:02:59</td>\n",
       "      <td>1.0</td>\n",
       "      <td>bbq_ckn</td>\n",
       "      <td>L</td>\n",
       "      <td>20.75</td>\n",
       "      <td>The Barbecue Chicken Pizza</td>\n",
       "      <td>Chicken</td>\n",
       "      <td>20.75</td>\n",
       "      <td>January</td>\n",
       "      <td>Thursday</td>\n",
       "      <td>13</td>\n",
       "    </tr>\n",
       "    <tr>\n",
       "      <th>1</th>\n",
       "      <td>17.0</td>\n",
       "      <td>2015-01-01</td>\n",
       "      <td>2025-05-12 13:53:00</td>\n",
       "      <td>1.0</td>\n",
       "      <td>bbq_ckn</td>\n",
       "      <td>L</td>\n",
       "      <td>20.75</td>\n",
       "      <td>The Barbecue Chicken Pizza</td>\n",
       "      <td>Chicken</td>\n",
       "      <td>20.75</td>\n",
       "      <td>January</td>\n",
       "      <td>Thursday</td>\n",
       "      <td>13</td>\n",
       "    </tr>\n",
       "  </tbody>\n",
       "</table>\n",
       "</div>"
      ],
      "text/plain": [
       "   order_id       date                time  quantity pizza_type_id size  \\\n",
       "0      11.0 2015-01-01 2025-05-12 13:02:59       1.0       bbq_ckn    L   \n",
       "1      17.0 2015-01-01 2025-05-12 13:53:00       1.0       bbq_ckn    L   \n",
       "\n",
       "   price                        name category  sales order month order day  \\\n",
       "0  20.75  The Barbecue Chicken Pizza  Chicken  20.75     January  Thursday   \n",
       "1  20.75  The Barbecue Chicken Pizza  Chicken  20.75     January  Thursday   \n",
       "\n",
       "   hour  \n",
       "0    13  \n",
       "1    13  "
      ]
     },
     "execution_count": 26,
     "metadata": {},
     "output_type": "execute_result"
    }
   ],
   "source": [
    "pizza_df['order month'] = pizza_df['date'].dt.month_name()\n",
    "pizza_df['order day'] = pizza_df['date'].dt.day_name()\n",
    "pizza_df['hour'] = pizza_df['time'].dt.hour\n",
    "pizza_df.head(2)"
   ]
  },
  {
   "cell_type": "markdown",
   "id": "b7129896-0901-4202-967d-166432a0abb2",
   "metadata": {},
   "source": [
    "Using the hour column, i will divide the day into morning(5am - 11:59am), afternoon(12pm - 4:59pm), evening(5pm-8:59pm), and Night(9pm - 4:59pm). In this way we can easily know what hours within a day have the most sales."
   ]
  },
  {
   "cell_type": "code",
   "execution_count": 28,
   "id": "c13b83fc-79b5-4e05-908d-f8c88f5c8c13",
   "metadata": {},
   "outputs": [],
   "source": [
    "time_of_day = [\n",
    "               (pizza_df['hour'] >= 5) & (pizza_df['hour'] < 12),\n",
    "               (pizza_df['hour'] >= 12) & (pizza_df['hour'] < 17),\n",
    "               (pizza_df['hour'] >= 17) & (pizza_df['hour'] < 21),\n",
    "              ]\n",
    "segments = ['Morning', 'Afternoon', 'Evening']\n",
    "pizza_df['Segment of day'] = np.select(time_of_day, segments, default='Night')"
   ]
  },
  {
   "cell_type": "code",
   "execution_count": 29,
   "id": "93f70dc2-a862-4558-bd63-c1354909d8cb",
   "metadata": {},
   "outputs": [
    {
     "data": {
      "text/html": [
       "<div>\n",
       "<style scoped>\n",
       "    .dataframe tbody tr th:only-of-type {\n",
       "        vertical-align: middle;\n",
       "    }\n",
       "\n",
       "    .dataframe tbody tr th {\n",
       "        vertical-align: top;\n",
       "    }\n",
       "\n",
       "    .dataframe thead th {\n",
       "        text-align: right;\n",
       "    }\n",
       "</style>\n",
       "<table border=\"1\" class=\"dataframe\">\n",
       "  <thead>\n",
       "    <tr style=\"text-align: right;\">\n",
       "      <th></th>\n",
       "      <th>order_id</th>\n",
       "      <th>date</th>\n",
       "      <th>time</th>\n",
       "      <th>quantity</th>\n",
       "      <th>pizza_type_id</th>\n",
       "      <th>size</th>\n",
       "      <th>price</th>\n",
       "      <th>name</th>\n",
       "      <th>category</th>\n",
       "      <th>sales</th>\n",
       "      <th>order month</th>\n",
       "      <th>order day</th>\n",
       "      <th>hour</th>\n",
       "      <th>Segment of day</th>\n",
       "    </tr>\n",
       "  </thead>\n",
       "  <tbody>\n",
       "    <tr>\n",
       "      <th>0</th>\n",
       "      <td>11.0</td>\n",
       "      <td>2015-01-01</td>\n",
       "      <td>2025-05-12 13:02:59</td>\n",
       "      <td>1.0</td>\n",
       "      <td>bbq_ckn</td>\n",
       "      <td>L</td>\n",
       "      <td>20.75</td>\n",
       "      <td>The Barbecue Chicken Pizza</td>\n",
       "      <td>Chicken</td>\n",
       "      <td>20.75</td>\n",
       "      <td>January</td>\n",
       "      <td>Thursday</td>\n",
       "      <td>13</td>\n",
       "      <td>Afternoon</td>\n",
       "    </tr>\n",
       "    <tr>\n",
       "      <th>1</th>\n",
       "      <td>17.0</td>\n",
       "      <td>2015-01-01</td>\n",
       "      <td>2025-05-12 13:53:00</td>\n",
       "      <td>1.0</td>\n",
       "      <td>bbq_ckn</td>\n",
       "      <td>L</td>\n",
       "      <td>20.75</td>\n",
       "      <td>The Barbecue Chicken Pizza</td>\n",
       "      <td>Chicken</td>\n",
       "      <td>20.75</td>\n",
       "      <td>January</td>\n",
       "      <td>Thursday</td>\n",
       "      <td>13</td>\n",
       "      <td>Afternoon</td>\n",
       "    </tr>\n",
       "    <tr>\n",
       "      <th>2</th>\n",
       "      <td>27.0</td>\n",
       "      <td>2015-01-01</td>\n",
       "      <td>2025-05-12 15:11:17</td>\n",
       "      <td>1.0</td>\n",
       "      <td>bbq_ckn</td>\n",
       "      <td>L</td>\n",
       "      <td>20.75</td>\n",
       "      <td>The Barbecue Chicken Pizza</td>\n",
       "      <td>Chicken</td>\n",
       "      <td>20.75</td>\n",
       "      <td>January</td>\n",
       "      <td>Thursday</td>\n",
       "      <td>15</td>\n",
       "      <td>Afternoon</td>\n",
       "    </tr>\n",
       "    <tr>\n",
       "      <th>3</th>\n",
       "      <td>33.0</td>\n",
       "      <td>2015-01-01</td>\n",
       "      <td>2025-05-12 15:54:08</td>\n",
       "      <td>1.0</td>\n",
       "      <td>bbq_ckn</td>\n",
       "      <td>L</td>\n",
       "      <td>20.75</td>\n",
       "      <td>The Barbecue Chicken Pizza</td>\n",
       "      <td>Chicken</td>\n",
       "      <td>20.75</td>\n",
       "      <td>January</td>\n",
       "      <td>Thursday</td>\n",
       "      <td>15</td>\n",
       "      <td>Afternoon</td>\n",
       "    </tr>\n",
       "    <tr>\n",
       "      <th>4</th>\n",
       "      <td>51.0</td>\n",
       "      <td>2015-01-01</td>\n",
       "      <td>2025-05-12 18:48:28</td>\n",
       "      <td>1.0</td>\n",
       "      <td>bbq_ckn</td>\n",
       "      <td>L</td>\n",
       "      <td>20.75</td>\n",
       "      <td>The Barbecue Chicken Pizza</td>\n",
       "      <td>Chicken</td>\n",
       "      <td>20.75</td>\n",
       "      <td>January</td>\n",
       "      <td>Thursday</td>\n",
       "      <td>18</td>\n",
       "      <td>Evening</td>\n",
       "    </tr>\n",
       "  </tbody>\n",
       "</table>\n",
       "</div>"
      ],
      "text/plain": [
       "   order_id       date                time  quantity pizza_type_id size  \\\n",
       "0      11.0 2015-01-01 2025-05-12 13:02:59       1.0       bbq_ckn    L   \n",
       "1      17.0 2015-01-01 2025-05-12 13:53:00       1.0       bbq_ckn    L   \n",
       "2      27.0 2015-01-01 2025-05-12 15:11:17       1.0       bbq_ckn    L   \n",
       "3      33.0 2015-01-01 2025-05-12 15:54:08       1.0       bbq_ckn    L   \n",
       "4      51.0 2015-01-01 2025-05-12 18:48:28       1.0       bbq_ckn    L   \n",
       "\n",
       "   price                        name category  sales order month order day  \\\n",
       "0  20.75  The Barbecue Chicken Pizza  Chicken  20.75     January  Thursday   \n",
       "1  20.75  The Barbecue Chicken Pizza  Chicken  20.75     January  Thursday   \n",
       "2  20.75  The Barbecue Chicken Pizza  Chicken  20.75     January  Thursday   \n",
       "3  20.75  The Barbecue Chicken Pizza  Chicken  20.75     January  Thursday   \n",
       "4  20.75  The Barbecue Chicken Pizza  Chicken  20.75     January  Thursday   \n",
       "\n",
       "   hour Segment of day  \n",
       "0    13      Afternoon  \n",
       "1    13      Afternoon  \n",
       "2    15      Afternoon  \n",
       "3    15      Afternoon  \n",
       "4    18        Evening  "
      ]
     },
     "execution_count": 29,
     "metadata": {},
     "output_type": "execute_result"
    }
   ],
   "source": [
    "pizza_df.head()"
   ]
  },
  {
   "cell_type": "code",
   "execution_count": 30,
   "id": "bf120198-74a4-4c30-8664-86ede8eba3b2",
   "metadata": {},
   "outputs": [
    {
     "data": {
      "text/plain": [
       "(48620, 14)"
      ]
     },
     "execution_count": 30,
     "metadata": {},
     "output_type": "execute_result"
    }
   ],
   "source": [
    "pizza_df.shape"
   ]
  },
  {
   "cell_type": "markdown",
   "id": "b2094dea-56c9-4cd2-ac19-64721b392e97",
   "metadata": {},
   "source": [
    "**Question 1**  \n",
    "What is the total revenue/sales?"
   ]
  },
  {
   "cell_type": "code",
   "execution_count": 32,
   "id": "b6af44f7-6596-4bf7-8666-66fb5c878c8e",
   "metadata": {},
   "outputs": [
    {
     "name": "stdout",
     "output_type": "stream",
     "text": [
      "Total sales in USD = 817860.0499999999\n"
     ]
    }
   ],
   "source": [
    "# The total revenue/sales is the sum of all the sales amount from the sales column\n",
    "Total_Sales_in_USD= pizza_df['sales'].sum()\n",
    "print('Total sales in USD =', Total_Sales_in_USD)"
   ]
  },
  {
   "cell_type": "markdown",
   "id": "5356bbf3-d36c-4447-9622-46ac604152af",
   "metadata": {},
   "source": [
    "**Question 2**  \n",
    "Find the total quantity sold"
   ]
  },
  {
   "cell_type": "code",
   "execution_count": 34,
   "id": "5585b431-a436-4443-ad35-141242aa1e4b",
   "metadata": {},
   "outputs": [
    {
     "name": "stdout",
     "output_type": "stream",
     "text": [
      "Total_quantity = 49574.0\n"
     ]
    }
   ],
   "source": [
    "# The total quantity sold is the sum of quantity in the quantity column\n",
    "Total_quantity = pizza_df['quantity'].sum()\n",
    "print('Total_quantity =', Total_quantity)"
   ]
  },
  {
   "cell_type": "markdown",
   "id": "0c23bab8-6c1b-4b82-8881-e3c15b26cbd1",
   "metadata": {},
   "source": [
    "**Question 3**  \n",
    "Find the total orders."
   ]
  },
  {
   "cell_type": "code",
   "execution_count": 36,
   "id": "6ff59985-3ee1-4175-b24c-3c8200dc7b7c",
   "metadata": {},
   "outputs": [
    {
     "name": "stdout",
     "output_type": "stream",
     "text": [
      "Total_orders = 48620\n"
     ]
    }
   ],
   "source": [
    "# The total number of oders is simply the count of all order_id \n",
    "Total_orders = pizza_df['order_id'].count()\n",
    "print('Total_orders =', Total_orders)"
   ]
  },
  {
   "cell_type": "markdown",
   "id": "7c68a9f6-6127-467b-8e30-0ea059f06b8c",
   "metadata": {},
   "source": [
    "**Question 4**  \n",
    "How many pizza types do they sell?"
   ]
  },
  {
   "cell_type": "code",
   "execution_count": 38,
   "id": "f4fb9292-54d0-40b2-b4af-94a3dda45c0e",
   "metadata": {},
   "outputs": [
    {
     "name": "stdout",
     "output_type": "stream",
     "text": [
      "Number of Pizza types sold = 32\n"
     ]
    }
   ],
   "source": [
    "Number_of_pizza_types = pizza_df['name'].nunique()\n",
    "print('Number of Pizza types sold =', Number_of_pizza_types)"
   ]
  },
  {
   "cell_type": "markdown",
   "id": "f27c9458-b3a6-4510-9fe4-0ada7512251a",
   "metadata": {},
   "source": [
    "These 32 pizza types are broken down into 4 catgories as shown below"
   ]
  },
  {
   "cell_type": "markdown",
   "id": "95c82811-c83c-47c9-9424-cee5f2ba4243",
   "metadata": {},
   "source": [
    "**Question 5**  \n",
    "Find the average price of the pizzas."
   ]
  },
  {
   "cell_type": "code",
   "execution_count": 41,
   "id": "033b5c23-e1fe-48ea-b042-51df1e814368",
   "metadata": {},
   "outputs": [
    {
     "name": "stdout",
     "output_type": "stream",
     "text": [
      "Average Price Of Pizza = 16.494132044426163\n"
     ]
    }
   ],
   "source": [
    "average_price_of_pizza = pizza_df['price'].mean()\n",
    "print('Average Price Of Pizza =', average_price_of_pizza)"
   ]
  },
  {
   "cell_type": "markdown",
   "id": "a76ab7db-2ef6-4fc9-bc99-61f16c4882f3",
   "metadata": {},
   "source": [
    "**Question**  \n",
    "What are the peak hours of sales?"
   ]
  },
  {
   "cell_type": "code",
   "execution_count": 43,
   "id": "f49fbe41-0797-4e1b-aff8-3eca12e192bd",
   "metadata": {},
   "outputs": [
    {
     "data": {
      "text/plain": [
       "Segment of day\n",
       "Afternoon    400192.70\n",
       "Evening      306378.60\n",
       "Night         65966.30\n",
       "Morning       45322.45\n",
       "Name: sales, dtype: float64"
      ]
     },
     "execution_count": 43,
     "metadata": {},
     "output_type": "execute_result"
    }
   ],
   "source": [
    "# To get the peak hours of sell we use the segment of day and sales columns\n",
    "peak_hours_of_sale = pizza_df.groupby('Segment of day')['sales'].sum().sort_values(ascending=False)\n",
    "peak_hours_of_sale"
   ]
  },
  {
   "cell_type": "code",
   "execution_count": 44,
   "id": "3ae8cea9-3750-4ef6-905b-c7c2e02d7872",
   "metadata": {},
   "outputs": [
    {
     "data": {
      "image/png": "[encoded data removed]",
      "text/plain": [
       "<Figure size 640x480 with 1 Axes>"
      ]
     },
     "metadata": {},
     "output_type": "display_data"
    }
   ],
   "source": [
    "plt.bar(peak_hours_of_sale.index, peak_hours_of_sale.values)\n",
    "plt.title('Peak Hours of Sales')\n",
    "plt.xlabel('Time of Day')\n",
    "plt.ylabel('Sales')\n",
    "plt.show()"
   ]
  },
  {
   "cell_type": "markdown",
   "id": "45e820da-cf88-4624-90db-dc8f4fbf7937",
   "metadata": {},
   "source": [
    "The afternoon hours are the peak hours of selling within the day this is the hours of 12pm to 4:59pm."
   ]
  },
  {
   "cell_type": "markdown",
   "id": "0466c7c4-48db-4a6e-a068-1c3fc0d52aa6",
   "metadata": {},
   "source": [
    "**Question 7**  \n",
    "Find the total sales made on each day of the week. Which day of the week is when sales are made the most?"
   ]
  },
  {
   "cell_type": "code",
   "execution_count": 47,
   "id": "40cd5f38-c352-4a56-8d65-f4f74230805f",
   "metadata": {},
   "outputs": [
    {
     "data": {
      "text/plain": [
       "order day\n",
       "Friday       136073.90\n",
       "Thursday     123528.50\n",
       "Saturday     123182.40\n",
       "Wednesday    114408.40\n",
       "Tuesday      114133.80\n",
       "Monday       107329.55\n",
       "Sunday        99203.50\n",
       "Name: sales, dtype: float64"
      ]
     },
     "execution_count": 47,
     "metadata": {},
     "output_type": "execute_result"
    }
   ],
   "source": [
    "Total_sales_by_weekday = pizza_df.groupby('order day')['sales'].sum().sort_values(ascending=False)\n",
    "Total_sales_by_weekday\n"
   ]
  },
  {
   "cell_type": "code",
   "execution_count": 48,
   "id": "10f7ad88-6efd-4ee2-b505-f30cbcc2cbec",
   "metadata": {},
   "outputs": [
    {
     "data": {
      "image/png": "[encoded data removed]",
      "text/plain": [
       "<Figure size 640x480 with 1 Axes>"
      ]
     },
     "metadata": {},
     "output_type": "display_data"
    }
   ],
   "source": [
    "plt.bar(Total_sales_by_weekday.index, Total_sales_by_weekday.values)\n",
    "plt.xticks(rotation=90)\n",
    "plt.title(\"Total Sales by Weekday\")\n",
    "plt.xlabel('Day of the Week')\n",
    "plt.ylabel('sales')\n",
    "plt.show()\n",
    "          "
   ]
  },
  {
   "cell_type": "markdown",
   "id": "69cf9451-212f-43c9-af8f-3509e10a8b20",
   "metadata": {},
   "source": [
    "The most sales are made on Friday"
   ]
  },
  {
   "cell_type": "markdown",
   "id": "cf653d4f-d672-41a5-9174-fbe210c67433",
   "metadata": {},
   "source": [
    "**Question 8**  \n",
    "Find the top 5 bestselling pizzas."
   ]
  },
  {
   "cell_type": "code",
   "execution_count": 51,
   "id": "6172eafc-2d8c-4bfc-9d16-46d055a99dab",
   "metadata": {},
   "outputs": [
    {
     "data": {
      "text/plain": [
       "name\n",
       "The Thai Chicken Pizza          43434.25\n",
       "The Barbecue Chicken Pizza      42768.00\n",
       "The California Chicken Pizza    41409.50\n",
       "The Classic Deluxe Pizza        38180.50\n",
       "The Spicy Italian Pizza         34831.25\n",
       "Name: sales, dtype: float64"
      ]
     },
     "execution_count": 51,
     "metadata": {},
     "output_type": "execute_result"
    }
   ],
   "source": [
    "top_5_selling_pizza = pizza_df.groupby('name')['sales'].sum().sort_values(ascending=False).head()\n",
    "top_5_selling_pizza"
   ]
  },
  {
   "cell_type": "markdown",
   "id": "6f54e2aa-4155-4ec7-a3e9-b38f46cf0d28",
   "metadata": {},
   "source": [
    "**Question 9**  \n",
    "Find the sales made in each month. Any trend noticeable?"
   ]
  },
  {
   "cell_type": "code",
   "execution_count": 53,
   "id": "a2a483a5-d9b6-493e-ab17-88270e9742c0",
   "metadata": {},
   "outputs": [
    {
     "data": {
      "text/plain": [
       "order month\n",
       "April        68736.80\n",
       "August       68278.25\n",
       "December     64701.15\n",
       "February     65159.60\n",
       "January      69793.30\n",
       "July         72557.90\n",
       "June         68230.20\n",
       "March        70397.10\n",
       "May          71402.75\n",
       "November     70395.35\n",
       "October      64027.60\n",
       "September    64180.05\n",
       "Name: sales, dtype: float64"
      ]
     },
     "execution_count": 53,
     "metadata": {},
     "output_type": "execute_result"
    }
   ],
   "source": [
    "monthly_sales = pizza_df.groupby('order month')['sales'].sum()\n",
    "monthly_sales"
   ]
  },
  {
   "cell_type": "code",
   "execution_count": 54,
   "id": "7c76d056-2612-4b45-899d-5bb4303fe3b5",
   "metadata": {},
   "outputs": [
    {
     "data": {
      "image/png": "[encoded data removed]",
      "text/plain": [
       "<Figure size 1000x600 with 1 Axes>"
      ]
     },
     "metadata": {},
     "output_type": "display_data"
    }
   ],
   "source": [
    "plt.figure(figsize=(10,6))\n",
    "plt.xticks(rotation=90)\n",
    "plt.plot(monthly_sales.index, monthly_sales.values)\n",
    "plt.xlabel('Month')\n",
    "plt.ylabel('Sales')\n",
    "plt.title('Monthly Sales Trend')\n",
    "plt.show()"
   ]
  },
  {
   "cell_type": "markdown",
   "id": "380d3f80-653d-488b-8342-311676086ad0",
   "metadata": {},
   "source": [
    "From the chart above we can see that there is really no visible trend in the sales, as each month has its own unique sale not following the season of the year of major events in the year."
   ]
  },
  {
   "cell_type": "markdown",
   "id": "84dce892-d663-4bad-86eb-643ef18218a0",
   "metadata": {},
   "source": [
    "**Question 10**  \n",
    "Are there pizza types that are not doing well on the menu?"
   ]
  },
  {
   "cell_type": "code",
   "execution_count": 57,
   "id": "4d04f356-c999-4fab-ad64-51b84222a7ce",
   "metadata": {},
   "outputs": [
    {
     "data": {
      "text/plain": [
       "name\n",
       "The Thai Chicken Pizza                        43434.25\n",
       "The Barbecue Chicken Pizza                    42768.00\n",
       "The California Chicken Pizza                  41409.50\n",
       "The Classic Deluxe Pizza                      38180.50\n",
       "The Spicy Italian Pizza                       34831.25\n",
       "The Southwest Chicken Pizza                   34705.75\n",
       "The Italian Supreme Pizza                     33476.75\n",
       "The Hawaiian Pizza                            32273.25\n",
       "The Four Cheese Pizza                         32265.70\n",
       "The Sicilian Pizza                            30940.50\n",
       "The Pepperoni Pizza                           30161.75\n",
       "The Greek Pizza                               28454.10\n",
       "The Mexicana Pizza                            26780.75\n",
       "The Five Cheese Pizza                         26066.50\n",
       "The Pepper Salami Pizza                       25529.00\n",
       "The Italian Capocollo Pizza                   25094.00\n",
       "The Vegetables + Vegetables Pizza             24374.75\n",
       "The Prosciutto and Arugula Pizza              24193.25\n",
       "The Napolitana Pizza                          24087.00\n",
       "The Spinach and Feta Pizza                    23271.25\n",
       "The Big Meat Pizza                            22968.00\n",
       "The Pepperoni, Mushroom, and Peppers Pizza    18834.50\n",
       "The Chicken Alfredo Pizza                     16900.25\n",
       "The Chicken Pesto Pizza                       16701.75\n",
       "The Soppressata Pizza                         16425.75\n",
       "The Italian Vegetables Pizza                  16019.25\n",
       "The Calabrese Pizza                           15934.25\n",
       "The Spinach Pesto Pizza                       15596.00\n",
       "The Mediterranean Pizza                       15360.50\n",
       "The Spinach Supreme Pizza                     15277.75\n",
       "The Green Garden Pizza                        13955.75\n",
       "The Brie Carre Pizza                          11588.50\n",
       "Name: sales, dtype: float64"
      ]
     },
     "execution_count": 57,
     "metadata": {},
     "output_type": "execute_result"
    }
   ],
   "source": [
    "pizza_sales = pizza_df.groupby('name')['sales'].sum().sort_values(ascending=False)\n",
    "pizza_sales"
   ]
  },
  {
   "cell_type": "code",
   "execution_count": 58,
   "id": "d8083e28-2798-4cd8-a76e-5490e3c07eaf",
   "metadata": {},
   "outputs": [
    {
     "data": {
      "image/png": "[encoded data removed]",
      "text/plain": [
       "<Figure size 1200x800 with 1 Axes>"
      ]
     },
     "metadata": {},
     "output_type": "display_data"
    }
   ],
   "source": [
    "plt.figure(figsize=(12,8))\n",
    "plt.bar(pizza_sales.index, pizza_sales.values)\n",
    "plt.title('Pizza Sales Across Various Pizza Types')\n",
    "plt.xlabel('Pizza Name')\n",
    "plt.ylabel('Sales')\n",
    "plt.xticks(rotation=90)\n",
    "plt.show()\n",
    "          "
   ]
  },
  {
   "cell_type": "markdown",
   "id": "d24950e6-0944-40da-9ef8-1c3368fc098c",
   "metadata": {},
   "source": [
    "Pizzas that return less than 15000 in a year can be considered as doing quite poorly and can be removed from the menu.In this case they are:\n"
   ]
  },
  {
   "cell_type": "code",
   "execution_count": 60,
   "id": "4906c9f0-47db-45f0-8b6e-12de42fdfc0d",
   "metadata": {},
   "outputs": [
    {
     "data": {
      "text/plain": [
       "name\n",
       "The Green Garden Pizza    13955.75\n",
       "The Brie Carre Pizza      11588.50\n",
       "Name: sales, dtype: float64"
      ]
     },
     "execution_count": 60,
     "metadata": {},
     "output_type": "execute_result"
    }
   ],
   "source": [
    "pizza_sales.tail(2)"
   ]
  },
  {
   "cell_type": "markdown",
   "id": "b8e32841-4763-4d81-9d88-3db9d3ed3b9b",
   "metadata": {},
   "source": [
    "**Additionally**"
   ]
  },
  {
   "cell_type": "code",
   "execution_count": 62,
   "id": "80001efb-0411-4c08-ba77-af1c28a82fc7",
   "metadata": {},
   "outputs": [
    {
     "data": {
      "text/html": [
       "<div>\n",
       "<style scoped>\n",
       "    .dataframe tbody tr th:only-of-type {\n",
       "        vertical-align: middle;\n",
       "    }\n",
       "\n",
       "    .dataframe tbody tr th {\n",
       "        vertical-align: top;\n",
       "    }\n",
       "\n",
       "    .dataframe thead th {\n",
       "        text-align: right;\n",
       "    }\n",
       "</style>\n",
       "<table border=\"1\" class=\"dataframe\">\n",
       "  <thead>\n",
       "    <tr style=\"text-align: right;\">\n",
       "      <th></th>\n",
       "      <th></th>\n",
       "      <th>sum</th>\n",
       "      <th>mean</th>\n",
       "    </tr>\n",
       "    <tr>\n",
       "      <th>category</th>\n",
       "      <th>size</th>\n",
       "      <th></th>\n",
       "      <th></th>\n",
       "    </tr>\n",
       "  </thead>\n",
       "  <tbody>\n",
       "    <tr>\n",
       "      <th rowspan=\"3\" valign=\"top\">Chicken</th>\n",
       "      <th>L</th>\n",
       "      <td>102339.00</td>\n",
       "      <td>21.325068</td>\n",
       "    </tr>\n",
       "    <tr>\n",
       "      <th>M</th>\n",
       "      <td>65224.50</td>\n",
       "      <td>17.114799</td>\n",
       "    </tr>\n",
       "    <tr>\n",
       "      <th>S</th>\n",
       "      <td>28356.00</td>\n",
       "      <td>12.859864</td>\n",
       "    </tr>\n",
       "    <tr>\n",
       "      <th rowspan=\"5\" valign=\"top\">Classic</th>\n",
       "      <th>L</th>\n",
       "      <td>74518.50</td>\n",
       "      <td>18.690369</td>\n",
       "    </tr>\n",
       "    <tr>\n",
       "      <th>M</th>\n",
       "      <td>60581.75</td>\n",
       "      <td>14.976947</td>\n",
       "    </tr>\n",
       "    <tr>\n",
       "      <th>S</th>\n",
       "      <td>69870.25</td>\n",
       "      <td>11.693766</td>\n",
       "    </tr>\n",
       "    <tr>\n",
       "      <th>XL</th>\n",
       "      <td>14076.00</td>\n",
       "      <td>25.875000</td>\n",
       "    </tr>\n",
       "    <tr>\n",
       "      <th>XXL</th>\n",
       "      <td>1006.60</td>\n",
       "      <td>35.950000</td>\n",
       "    </tr>\n",
       "    <tr>\n",
       "      <th rowspan=\"3\" valign=\"top\">Supreme</th>\n",
       "      <th>L</th>\n",
       "      <td>94258.50</td>\n",
       "      <td>21.053942</td>\n",
       "    </tr>\n",
       "    <tr>\n",
       "      <th>M</th>\n",
       "      <td>66475.00</td>\n",
       "      <td>16.714860</td>\n",
       "    </tr>\n",
       "    <tr>\n",
       "      <th>S</th>\n",
       "      <td>47463.50</td>\n",
       "      <td>14.283328</td>\n",
       "    </tr>\n",
       "    <tr>\n",
       "      <th rowspan=\"3\" valign=\"top\">Veggie</th>\n",
       "      <th>L</th>\n",
       "      <td>104202.70</td>\n",
       "      <td>19.799107</td>\n",
       "    </tr>\n",
       "    <tr>\n",
       "      <th>M</th>\n",
       "      <td>57101.00</td>\n",
       "      <td>16.075732</td>\n",
       "    </tr>\n",
       "    <tr>\n",
       "      <th>S</th>\n",
       "      <td>32386.75</td>\n",
       "      <td>12.295653</td>\n",
       "    </tr>\n",
       "  </tbody>\n",
       "</table>\n",
       "</div>"
      ],
      "text/plain": [
       "                     sum       mean\n",
       "category size                      \n",
       "Chicken  L     102339.00  21.325068\n",
       "         M      65224.50  17.114799\n",
       "         S      28356.00  12.859864\n",
       "Classic  L      74518.50  18.690369\n",
       "         M      60581.75  14.976947\n",
       "         S      69870.25  11.693766\n",
       "         XL     14076.00  25.875000\n",
       "         XXL     1006.60  35.950000\n",
       "Supreme  L      94258.50  21.053942\n",
       "         M      66475.00  16.714860\n",
       "         S      47463.50  14.283328\n",
       "Veggie   L     104202.70  19.799107\n",
       "         M      57101.00  16.075732\n",
       "         S      32386.75  12.295653"
      ]
     },
     "execution_count": 62,
     "metadata": {},
     "output_type": "execute_result"
    }
   ],
   "source": [
    "sales_by_size = pizza_df.groupby(['category', 'size'])['sales'].agg([np.sum, np.mean])\n",
    "sales_by_size\n",
    "# consider removing XL, XXL from the menu, as there are sales are reasonable low, thus they can concentrate on L, M, and S"
   ]
  },
  {
   "cell_type": "markdown",
   "id": "567dd07a-cac8-46f8-94ff-5f9aabc6e220",
   "metadata": {},
   "source": [
    "We see from tha table above that certain pizza sizes are not particularly doing well and should be discontinued, they are the XL and XXL. "
   ]
  },
  {
   "cell_type": "code",
   "execution_count": null,
   "id": "3c79a430-ce2f-40f7-9cf1-75c9ac96b936",
   "metadata": {},
   "outputs": [],
   "source": []
  }
 ],
 "metadata": {
  "kernelspec": {
   "display_name": "Python [conda env:base] *",
   "language": "python",
   "name": "conda-base-py"
  },
  "language_info": {
   "codemirror_mode": {
    "name": "ipython",
    "version": 3
   },
   "file_extension": ".py",
   "mimetype": "text/x-python",
   "name": "python",
   "nbconvert_exporter": "python",
   "pygments_lexer": "ipython3",
   "version": "3.12.7"
  }
 },
 "nbformat": 4,
 "nbformat_minor": 5
}
